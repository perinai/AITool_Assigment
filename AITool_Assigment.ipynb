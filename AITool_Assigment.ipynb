{
  "nbformat": 4,
  "nbformat_minor": 0,
  "metadata": {
    "colab": {
      "provenance": [],
      "gpuType": "T4",
      "authorship_tag": "ABX9TyMQjG9xRecEwOAjMs/Kt6yi",
      "include_colab_link": true
    },
    "kernelspec": {
      "name": "python3",
      "display_name": "Python 3"
    },
    "language_info": {
      "name": "python"
    },
    "accelerator": "GPU"
  },
  "cells": [
    {
      "cell_type": "markdown",
      "metadata": {
        "id": "view-in-github",
        "colab_type": "text"
      },
      "source": [
        "<a href=\"https://colab.research.google.com/github/perinai/AITool_Assigment/blob/main/AITool_Assigment.ipynb\" target=\"_parent\"><img src=\"https://colab.research.google.com/assets/colab-badge.svg\" alt=\"Open In Colab\"/></a>"
      ]
    },
    {
      "cell_type": "code",
      "execution_count": 1,
      "metadata": {
        "colab": {
          "base_uri": "https://localhost:8080/"
        },
        "id": "mZm_kTQTP0qF",
        "outputId": "760ea165-8bb1-4349-9031-18cd285f0f66"
      },
      "outputs": [
        {
          "output_type": "stream",
          "name": "stdout",
          "text": [
            "Libraries imported successfully!\n"
          ]
        }
      ],
      "source": [
        "import pandas as pd\n",
        "from sklearn.model_selection import train_test_split\n",
        "from sklearn.preprocessing import LabelEncoder # Though not strictly needed for Iris target\n",
        "from sklearn.tree import DecisionTreeClassifier\n",
        "from sklearn.metrics import accuracy_score, precision_score, recall_score, confusion_matrix, classification_report\n",
        "from sklearn.datasets import load_iris\n",
        "import seaborn as sns\n",
        "import matplotlib.pyplot as plt\n",
        "\n",
        "print(\"Libraries imported successfully!\")"
      ]
    },
    {
      "cell_type": "code",
      "source": [
        "# Load Iris dataset\n",
        "iris = load_iris()\n",
        "X = pd.DataFrame(iris.data, columns=iris.feature_names)\n",
        "y = pd.Series(iris.target) # Target is already numeric (0, 1, 2)\n",
        "\n",
        "print(\"Dataset loaded.\")\n",
        "print(\"Features (X) head:\")\n",
        "print(X.head())\n",
        "print(\"\\nTarget (y) head:\")\n",
        "print(y.head())\n",
        "print(\"\\nTarget names (species):\")\n",
        "print(iris.target_names)"
      ],
      "metadata": {
        "colab": {
          "base_uri": "https://localhost:8080/"
        },
        "id": "PD93LOYHR8N0",
        "outputId": "f8cca9dc-769f-4832-e38d-6cc751cb047c"
      },
      "execution_count": 2,
      "outputs": [
        {
          "output_type": "stream",
          "name": "stdout",
          "text": [
            "Dataset loaded.\n",
            "Features (X) head:\n",
            "   sepal length (cm)  sepal width (cm)  petal length (cm)  petal width (cm)\n",
            "0                5.1               3.5                1.4               0.2\n",
            "1                4.9               3.0                1.4               0.2\n",
            "2                4.7               3.2                1.3               0.2\n",
            "3                4.6               3.1                1.5               0.2\n",
            "4                5.0               3.6                1.4               0.2\n",
            "\n",
            "Target (y) head:\n",
            "0    0\n",
            "1    0\n",
            "2    0\n",
            "3    0\n",
            "4    0\n",
            "dtype: int64\n",
            "\n",
            "Target names (species):\n",
            "['setosa' 'versicolor' 'virginica']\n"
          ]
        }
      ]
    },
    {
      "cell_type": "code",
      "source": [
        "# Check for missing values\n",
        "print(\"Missing values in X:\")\n",
        "print(X.isnull().sum())\n",
        "\n",
        "# The Iris dataset is clean and target is numeric, so no explicit encoding needed.\n",
        "# If target was string labels like ['setosa', 'versicolor', 'virginica'],\n",
        "# you would use LabelEncoder:\n",
        "# le = LabelEncoder()\n",
        "# y_encoded = le.fit_transform(y_string_labels)\n",
        "# For this dataset, y is already 0, 1, 2.\n",
        "\n",
        "print(\"\\nData preprocessing check complete (Iris is typically clean).\")"
      ],
      "metadata": {
        "colab": {
          "base_uri": "https://localhost:8080/"
        },
        "id": "i-SWvFt_SCUT",
        "outputId": "db81d719-2bf0-405e-d2ec-84861f05f555"
      },
      "execution_count": 3,
      "outputs": [
        {
          "output_type": "stream",
          "name": "stdout",
          "text": [
            "Missing values in X:\n",
            "sepal length (cm)    0\n",
            "sepal width (cm)     0\n",
            "petal length (cm)    0\n",
            "petal width (cm)     0\n",
            "dtype: int64\n",
            "\n",
            "Data preprocessing check complete (Iris is typically clean).\n"
          ]
        }
      ]
    },
    {
      "cell_type": "code",
      "source": [
        "X_train, X_test, y_train, y_test = train_test_split(X, y, test_size=0.3, random_state=42, stratify=y)\n",
        "\n",
        "print(\"Data split into training and testing sets.\")\n",
        "print(\"X_train shape:\", X_train.shape)\n",
        "print(\"X_test shape:\", X_test.shape)\n",
        "print(\"y_train shape:\", y_train.shape)\n",
        "print(\"y_test shape:\", y_test.shape)"
      ],
      "metadata": {
        "colab": {
          "base_uri": "https://localhost:8080/"
        },
        "id": "3rw4Nd9iSJib",
        "outputId": "bb48a56d-4086-4451-bf01-79696c382efc"
      },
      "execution_count": 4,
      "outputs": [
        {
          "output_type": "stream",
          "name": "stdout",
          "text": [
            "Data split into training and testing sets.\n",
            "X_train shape: (105, 4)\n",
            "X_test shape: (45, 4)\n",
            "y_train shape: (105,)\n",
            "y_test shape: (45,)\n"
          ]
        }
      ]
    },
    {
      "cell_type": "code",
      "source": [
        "# Initialize the Decision Tree Classifier\n",
        "dt_classifier = DecisionTreeClassifier(random_state=42)\n",
        "\n",
        "# Train the classifier\n",
        "dt_classifier.fit(X_train, y_train)\n",
        "\n",
        "print(\"Decision Tree Classifier trained.\")"
      ],
      "metadata": {
        "colab": {
          "base_uri": "https://localhost:8080/"
        },
        "id": "8_w2NuoMSPwb",
        "outputId": "3fcb09df-3270-4e81-bf9d-ed29e97f2734"
      },
      "execution_count": 5,
      "outputs": [
        {
          "output_type": "stream",
          "name": "stdout",
          "text": [
            "Decision Tree Classifier trained.\n"
          ]
        }
      ]
    },
    {
      "cell_type": "code",
      "source": [
        "y_pred = dt_classifier.predict(X_test)\n",
        "\n",
        "print(\"Predictions made on the test set.\")\n",
        "print(\"First 5 predictions:\", y_pred[:5])\n",
        "print(\"First 5 actual labels:\", y_test.values[:5])"
      ],
      "metadata": {
        "colab": {
          "base_uri": "https://localhost:8080/"
        },
        "id": "huScrqLJSUMs",
        "outputId": "36098ee1-3565-4740-c813-d4abe0378d13"
      },
      "execution_count": 6,
      "outputs": [
        {
          "output_type": "stream",
          "name": "stdout",
          "text": [
            "Predictions made on the test set.\n",
            "First 5 predictions: [2 1 2 2 2]\n",
            "First 5 actual labels: [2 1 2 1 2]\n"
          ]
        }
      ]
    },
    {
      "cell_type": "code",
      "source": [
        "accuracy = accuracy_score(y_test, y_pred)\n",
        "# For multi-class, specify average for precision and recall\n",
        "precision = precision_score(y_test, y_pred, average='weighted')\n",
        "recall = recall_score(y_test, y_pred, average='weighted')\n",
        "conf_matrix = confusion_matrix(y_test, y_pred)\n",
        "\n",
        "print(f\"Accuracy: {accuracy:.4f}\")\n",
        "print(f\"Precision (weighted): {precision:.4f}\")\n",
        "print(f\"Recall (weighted): {recall:.4f}\")\n",
        "\n",
        "print(\"\\nClassification Report:\")\n",
        "print(classification_report(y_test, y_pred, target_names=iris.target_names))\n",
        "\n",
        "print(\"\\nConfusion Matrix:\")\n",
        "print(conf_matrix)\n",
        "\n",
        "# Visualize Confusion Matrix\n",
        "plt.figure(figsize=(8, 6))\n",
        "sns.heatmap(conf_matrix, annot=True, fmt='d', cmap='Blues',\n",
        "            xticklabels=iris.target_names, yticklabels=iris.target_names)\n",
        "plt.xlabel('Predicted Label')\n",
        "plt.ylabel('True Label')\n",
        "plt.title('Confusion Matrix for Iris Classification')\n",
        "plt.show() # This will display the plot in Colab"
      ],
      "metadata": {
        "colab": {
          "base_uri": "https://localhost:8080/",
          "height": 911
        },
        "id": "-i0AQ55dSawr",
        "outputId": "30dbf8b3-2eb7-4cb4-b5ef-9fba400a0b44"
      },
      "execution_count": 7,
      "outputs": [
        {
          "output_type": "stream",
          "name": "stdout",
          "text": [
            "Accuracy: 0.9333\n",
            "Precision (weighted): 0.9444\n",
            "Recall (weighted): 0.9333\n",
            "\n",
            "Classification Report:\n",
            "              precision    recall  f1-score   support\n",
            "\n",
            "      setosa       1.00      1.00      1.00        15\n",
            "  versicolor       1.00      0.80      0.89        15\n",
            "   virginica       0.83      1.00      0.91        15\n",
            "\n",
            "    accuracy                           0.93        45\n",
            "   macro avg       0.94      0.93      0.93        45\n",
            "weighted avg       0.94      0.93      0.93        45\n",
            "\n",
            "\n",
            "Confusion Matrix:\n",
            "[[15  0  0]\n",
            " [ 0 12  3]\n",
            " [ 0  0 15]]\n"
          ]
        },
        {
          "output_type": "display_data",
          "data": {
            "text/plain": [
              "<Figure size 800x600 with 2 Axes>"
            ],
            "image/png": "[encoded data removed]"
          },
          "metadata": {}
        }
      ]
    },
    {
      "cell_type": "code",
      "source": [
        "import tensorflow as tf\n",
        "from tensorflow.keras.datasets import mnist\n",
        "from tensorflow.keras.models import Sequential\n",
        "from tensorflow.keras.layers import Conv2D, MaxPooling2D, Flatten, Dense, Dropout\n",
        "from tensorflow.keras.utils import to_categorical\n",
        "import matplotlib.pyplot as plt\n",
        "import numpy as np\n",
        "\n",
        "print(f\"TensorFlow version: {tf.__version__}\")\n",
        "print(\"Libraries for MNIST task imported.\")"
      ],
      "metadata": {
        "colab": {
          "base_uri": "https://localhost:8080/"
        },
        "id": "CuHeiN3BS4lz",
        "outputId": "e17b9d35-739c-44c0-ddf5-27c76ddb1cb4"
      },
      "execution_count": 8,
      "outputs": [
        {
          "output_type": "stream",
          "name": "stdout",
          "text": [
            "TensorFlow version: 2.18.0\n",
            "Libraries for MNIST task imported.\n"
          ]
        }
      ]
    },
    {
      "cell_type": "code",
      "source": [
        "# Load MNIST dataset\n",
        "(X_train_mnist, y_train_mnist), (X_test_mnist, y_test_mnist) = mnist.load_data()\n",
        "\n",
        "print(\"MNIST dataset loaded.\")\n",
        "print(\"X_train_mnist shape (before processing):\", X_train_mnist.shape)\n",
        "\n",
        "# Normalize pixel values to be between 0 and 1\n",
        "X_train_mnist = X_train_mnist.astype('float32') / 255.0\n",
        "X_test_mnist = X_test_mnist.astype('float32') / 255.0\n",
        "\n",
        "# Reshape data for CNN (add channel dimension: 1 for grayscale)\n",
        "# CNN expects (num_samples, height, width, channels)\n",
        "X_train_mnist = X_train_mnist.reshape((-1, 28, 28, 1))\n",
        "X_test_mnist = X_test_mnist.reshape((-1, 28, 28, 1))\n",
        "\n",
        "print(\"X_train_mnist shape (after reshape for CNN):\", X_train_mnist.shape)\n",
        "\n",
        "# One-hot encode target labels (e.g., 5 -> [0,0,0,0,0,1,0,0,0,0])\n",
        "y_train_mnist_cat = to_categorical(y_train_mnist, num_classes=10)\n",
        "y_test_mnist_cat = to_categorical(y_test_mnist, num_classes=10)\n",
        "\n",
        "print(\"y_train_mnist_cat shape (after one-hot encoding):\", y_train_mnist_cat.shape)\n",
        "print(\"Sample original label:\", y_train_mnist[0])\n",
        "print(\"Sample one-hot encoded label:\", y_train_mnist_cat[0])"
      ],
      "metadata": {
        "colab": {
          "base_uri": "https://localhost:8080/"
        },
        "id": "nAUoXc7UTERa",
        "outputId": "2c89171e-6325-4f3a-902c-ebdd1cfbcbad"
      },
      "execution_count": 9,
      "outputs": [
        {
          "output_type": "stream",
          "name": "stdout",
          "text": [
            "Downloading data from https://storage.googleapis.com/tensorflow/tf-keras-datasets/mnist.npz\n",
            "\u001b[1m11490434/11490434\u001b[0m \u001b[32m━━━━━━━━━━━━━━━━━━━━\u001b[0m\u001b[37m\u001b[0m \u001b[1m2s\u001b[0m 0us/step\n",
            "MNIST dataset loaded.\n",
            "X_train_mnist shape (before processing): (60000, 28, 28)\n",
            "X_train_mnist shape (after reshape for CNN): (60000, 28, 28, 1)\n",
            "y_train_mnist_cat shape (after one-hot encoding): (60000, 10)\n",
            "Sample original label: 5\n",
            "Sample one-hot encoded label: [0. 0. 0. 0. 0. 1. 0. 0. 0. 0.]\n"
          ]
        }
      ]
    },
    {
      "cell_type": "code",
      "source": [
        "model = Sequential([\n",
        "    Conv2D(32, (3, 3), activation='relu', input_shape=(28, 28, 1)), # 32 filters, 3x3 kernel\n",
        "    MaxPooling2D((2, 2)), # Downsamples by factor of 2\n",
        "    Conv2D(64, (3, 3), activation='relu'), # 64 filters\n",
        "    MaxPooling2D((2, 2)),\n",
        "    Flatten(), # Flattens 2D feature maps to 1D vector\n",
        "    Dense(100, activation='relu'), # Fully connected layer with 100 neurons\n",
        "    Dropout(0.5), # Dropout for regularization to prevent overfitting\n",
        "    Dense(10, activation='softmax') # Output layer: 10 neurons (for 10 digits), softmax for probabilities\n",
        "])\n",
        "\n",
        "print(\"CNN Model built.\")"
      ],
      "metadata": {
        "colab": {
          "base_uri": "https://localhost:8080/"
        },
        "id": "bL28sdHDTLJh",
        "outputId": "466c45f0-2f8b-495f-dc85-8fd6bd2ff724"
      },
      "execution_count": 10,
      "outputs": [
        {
          "output_type": "stream",
          "name": "stderr",
          "text": [
            "/usr/local/lib/python3.11/dist-packages/keras/src/layers/convolutional/base_conv.py:107: UserWarning: Do not pass an `input_shape`/`input_dim` argument to a layer. When using Sequential models, prefer using an `Input(shape)` object as the first layer in the model instead.\n",
            "  super().__init__(activity_regularizer=activity_regularizer, **kwargs)\n"
          ]
        },
        {
          "output_type": "stream",
          "name": "stdout",
          "text": [
            "CNN Model built.\n"
          ]
        }
      ]
    },
    {
      "cell_type": "code",
      "source": [
        "model.compile(optimizer='adam', # Adam optimizer\n",
        "              loss='categorical_crossentropy', # For one-hot encoded labels\n",
        "              metrics=['accuracy']) # Track accuracy during training\n",
        "\n",
        "print(\"Model compiled.\")\n",
        "model.summary() # Print model architecture"
      ],
      "metadata": {
        "colab": {
          "base_uri": "https://localhost:8080/",
          "height": 425
        },
        "id": "fwo9hpBSTP9Z",
        "outputId": "3b459d2a-3cb3-4eee-e0d5-8dee23cb9c71"
      },
      "execution_count": 11,
      "outputs": [
        {
          "output_type": "stream",
          "name": "stdout",
          "text": [
            "Model compiled.\n"
          ]
        },
        {
          "output_type": "display_data",
          "data": {
            "text/plain": [
              "\u001b[1mModel: \"sequential\"\u001b[0m\n"
            ],
            "text/html": [
              "<pre style=\"white-space:pre;overflow-x:auto;line-height:normal;font-family:Menlo,'DejaVu Sans Mono',consolas,'Courier New',monospace\"><span style=\"font-weight: bold\">Model: \"sequential\"</span>\n",
              "</pre>\n"
            ]
          },
          "metadata": {}
        },
        {
          "output_type": "display_data",
          "data": {
            "text/plain": [
              "┏━━━━━━━━━━━━━━━━━━━━━━━━━━━━━━━━━┳━━━━━━━━━━━━━━━━━━━━━━━━┳━━━━━━━━━━━━━━━┓\n",
              "┃\u001b[1m \u001b[0m\u001b[1mLayer (type)                   \u001b[0m\u001b[1m \u001b[0m┃\u001b[1m \u001b[0m\u001b[1mOutput Shape          \u001b[0m\u001b[1m \u001b[0m┃\u001b[1m \u001b[0m\u001b[1m      Param #\u001b[0m\u001b[1m \u001b[0m┃\n",
              "┡━━━━━━━━━━━━━━━━━━━━━━━━━━━━━━━━━╇━━━━━━━━━━━━━━━━━━━━━━━━╇━━━━━━━━━━━━━━━┩\n",
              "│ conv2d (\u001b[38;5;33mConv2D\u001b[0m)                 │ (\u001b[38;5;45mNone\u001b[0m, \u001b[38;5;34m26\u001b[0m, \u001b[38;5;34m26\u001b[0m, \u001b[38;5;34m32\u001b[0m)     │           \u001b[38;5;34m320\u001b[0m │\n",
              "├─────────────────────────────────┼────────────────────────┼───────────────┤\n",
              "│ max_pooling2d (\u001b[38;5;33mMaxPooling2D\u001b[0m)    │ (\u001b[38;5;45mNone\u001b[0m, \u001b[38;5;34m13\u001b[0m, \u001b[38;5;34m13\u001b[0m, \u001b[38;5;34m32\u001b[0m)     │             \u001b[38;5;34m0\u001b[0m │\n",
              "├─────────────────────────────────┼────────────────────────┼───────────────┤\n",
              "│ conv2d_1 (\u001b[38;5;33mConv2D\u001b[0m)               │ (\u001b[38;5;45mNone\u001b[0m, \u001b[38;5;34m11\u001b[0m, \u001b[38;5;34m11\u001b[0m, \u001b[38;5;34m64\u001b[0m)     │        \u001b[38;5;34m18,496\u001b[0m │\n",
              "├─────────────────────────────────┼────────────────────────┼───────────────┤\n",
              "│ max_pooling2d_1 (\u001b[38;5;33mMaxPooling2D\u001b[0m)  │ (\u001b[38;5;45mNone\u001b[0m, \u001b[38;5;34m5\u001b[0m, \u001b[38;5;34m5\u001b[0m, \u001b[38;5;34m64\u001b[0m)       │             \u001b[38;5;34m0\u001b[0m │\n",
              "├─────────────────────────────────┼────────────────────────┼───────────────┤\n",
              "│ flatten (\u001b[38;5;33mFlatten\u001b[0m)               │ (\u001b[38;5;45mNone\u001b[0m, \u001b[38;5;34m1600\u001b[0m)           │             \u001b[38;5;34m0\u001b[0m │\n",
              "├─────────────────────────────────┼────────────────────────┼───────────────┤\n",
              "│ dense (\u001b[38;5;33mDense\u001b[0m)                   │ (\u001b[38;5;45mNone\u001b[0m, \u001b[38;5;34m100\u001b[0m)            │       \u001b[38;5;34m160,100\u001b[0m │\n",
              "├─────────────────────────────────┼────────────────────────┼───────────────┤\n",
              "│ dropout (\u001b[38;5;33mDropout\u001b[0m)               │ (\u001b[38;5;45mNone\u001b[0m, \u001b[38;5;34m100\u001b[0m)            │             \u001b[38;5;34m0\u001b[0m │\n",
              "├─────────────────────────────────┼────────────────────────┼───────────────┤\n",
              "│ dense_1 (\u001b[38;5;33mDense\u001b[0m)                 │ (\u001b[38;5;45mNone\u001b[0m, \u001b[38;5;34m10\u001b[0m)             │         \u001b[38;5;34m1,010\u001b[0m │\n",
              "└─────────────────────────────────┴────────────────────────┴───────────────┘\n"
            ],
            "text/html": [
              "<pre style=\"white-space:pre;overflow-x:auto;line-height:normal;font-family:Menlo,'DejaVu Sans Mono',consolas,'Courier New',monospace\">┏━━━━━━━━━━━━━━━━━━━━━━━━━━━━━━━━━┳━━━━━━━━━━━━━━━━━━━━━━━━┳━━━━━━━━━━━━━━━┓\n",
              "┃<span style=\"font-weight: bold\"> Layer (type)                    </span>┃<span style=\"font-weight: bold\"> Output Shape           </span>┃<span style=\"font-weight: bold\">       Param # </span>┃\n",
              "┡━━━━━━━━━━━━━━━━━━━━━━━━━━━━━━━━━╇━━━━━━━━━━━━━━━━━━━━━━━━╇━━━━━━━━━━━━━━━┩\n",
              "│ conv2d (<span style=\"color: #0087ff; text-decoration-color: #0087ff\">Conv2D</span>)                 │ (<span style=\"color: #00d7ff; text-decoration-color: #00d7ff\">None</span>, <span style=\"color: #00af00; text-decoration-color: #00af00\">26</span>, <span style=\"color: #00af00; text-decoration-color: #00af00\">26</span>, <span style=\"color: #00af00; text-decoration-color: #00af00\">32</span>)     │           <span style=\"color: #00af00; text-decoration-color: #00af00\">320</span> │\n",
              "├─────────────────────────────────┼────────────────────────┼───────────────┤\n",
              "│ max_pooling2d (<span style=\"color: #0087ff; text-decoration-color: #0087ff\">MaxPooling2D</span>)    │ (<span style=\"color: #00d7ff; text-decoration-color: #00d7ff\">None</span>, <span style=\"color: #00af00; text-decoration-color: #00af00\">13</span>, <span style=\"color: #00af00; text-decoration-color: #00af00\">13</span>, <span style=\"color: #00af00; text-decoration-color: #00af00\">32</span>)     │             <span style=\"color: #00af00; text-decoration-color: #00af00\">0</span> │\n",
              "├─────────────────────────────────┼────────────────────────┼───────────────┤\n",
              "│ conv2d_1 (<span style=\"color: #0087ff; text-decoration-color: #0087ff\">Conv2D</span>)               │ (<span style=\"color: #00d7ff; text-decoration-color: #00d7ff\">None</span>, <span style=\"color: #00af00; text-decoration-color: #00af00\">11</span>, <span style=\"color: #00af00; text-decoration-color: #00af00\">11</span>, <span style=\"color: #00af00; text-decoration-color: #00af00\">64</span>)     │        <span style=\"color: #00af00; text-decoration-color: #00af00\">18,496</span> │\n",
              "├─────────────────────────────────┼────────────────────────┼───────────────┤\n",
              "│ max_pooling2d_1 (<span style=\"color: #0087ff; text-decoration-color: #0087ff\">MaxPooling2D</span>)  │ (<span style=\"color: #00d7ff; text-decoration-color: #00d7ff\">None</span>, <span style=\"color: #00af00; text-decoration-color: #00af00\">5</span>, <span style=\"color: #00af00; text-decoration-color: #00af00\">5</span>, <span style=\"color: #00af00; text-decoration-color: #00af00\">64</span>)       │             <span style=\"color: #00af00; text-decoration-color: #00af00\">0</span> │\n",
              "├─────────────────────────────────┼────────────────────────┼───────────────┤\n",
              "│ flatten (<span style=\"color: #0087ff; text-decoration-color: #0087ff\">Flatten</span>)               │ (<span style=\"color: #00d7ff; text-decoration-color: #00d7ff\">None</span>, <span style=\"color: #00af00; text-decoration-color: #00af00\">1600</span>)           │             <span style=\"color: #00af00; text-decoration-color: #00af00\">0</span> │\n",
              "├─────────────────────────────────┼────────────────────────┼───────────────┤\n",
              "│ dense (<span style=\"color: #0087ff; text-decoration-color: #0087ff\">Dense</span>)                   │ (<span style=\"color: #00d7ff; text-decoration-color: #00d7ff\">None</span>, <span style=\"color: #00af00; text-decoration-color: #00af00\">100</span>)            │       <span style=\"color: #00af00; text-decoration-color: #00af00\">160,100</span> │\n",
              "├─────────────────────────────────┼────────────────────────┼───────────────┤\n",
              "│ dropout (<span style=\"color: #0087ff; text-decoration-color: #0087ff\">Dropout</span>)               │ (<span style=\"color: #00d7ff; text-decoration-color: #00d7ff\">None</span>, <span style=\"color: #00af00; text-decoration-color: #00af00\">100</span>)            │             <span style=\"color: #00af00; text-decoration-color: #00af00\">0</span> │\n",
              "├─────────────────────────────────┼────────────────────────┼───────────────┤\n",
              "│ dense_1 (<span style=\"color: #0087ff; text-decoration-color: #0087ff\">Dense</span>)                 │ (<span style=\"color: #00d7ff; text-decoration-color: #00d7ff\">None</span>, <span style=\"color: #00af00; text-decoration-color: #00af00\">10</span>)             │         <span style=\"color: #00af00; text-decoration-color: #00af00\">1,010</span> │\n",
              "└─────────────────────────────────┴────────────────────────┴───────────────┘\n",
              "</pre>\n"
            ]
          },
          "metadata": {}
        },
        {
          "output_type": "display_data",
          "data": {
            "text/plain": [
              "\u001b[1m Total params: \u001b[0m\u001b[38;5;34m179,926\u001b[0m (702.84 KB)\n"
            ],
            "text/html": [
              "<pre style=\"white-space:pre;overflow-x:auto;line-height:normal;font-family:Menlo,'DejaVu Sans Mono',consolas,'Courier New',monospace\"><span style=\"font-weight: bold\"> Total params: </span><span style=\"color: #00af00; text-decoration-color: #00af00\">179,926</span> (702.84 KB)\n",
              "</pre>\n"
            ]
          },
          "metadata": {}
        },
        {
          "output_type": "display_data",
          "data": {
            "text/plain": [
              "\u001b[1m Trainable params: \u001b[0m\u001b[38;5;34m179,926\u001b[0m (702.84 KB)\n"
            ],
            "text/html": [
              "<pre style=\"white-space:pre;overflow-x:auto;line-height:normal;font-family:Menlo,'DejaVu Sans Mono',consolas,'Courier New',monospace\"><span style=\"font-weight: bold\"> Trainable params: </span><span style=\"color: #00af00; text-decoration-color: #00af00\">179,926</span> (702.84 KB)\n",
              "</pre>\n"
            ]
          },
          "metadata": {}
        },
        {
          "output_type": "display_data",
          "data": {
            "text/plain": [
              "\u001b[1m Non-trainable params: \u001b[0m\u001b[38;5;34m0\u001b[0m (0.00 B)\n"
            ],
            "text/html": [
              "<pre style=\"white-space:pre;overflow-x:auto;line-height:normal;font-family:Menlo,'DejaVu Sans Mono',consolas,'Courier New',monospace\"><span style=\"font-weight: bold\"> Non-trainable params: </span><span style=\"color: #00af00; text-decoration-color: #00af00\">0</span> (0.00 B)\n",
              "</pre>\n"
            ]
          },
          "metadata": {}
        }
      ]
    },
    {
      "cell_type": "code",
      "source": [
        "print(\"Starting model training (this may take a few minutes)...\")\n",
        "history = model.fit(X_train_mnist, y_train_mnist_cat,\n",
        "                    epochs=10,  # Number of passes through the entire dataset\n",
        "                    batch_size=128, # Number of samples per gradient update\n",
        "                    validation_data=(X_test_mnist, y_test_mnist_cat),\n",
        "                    verbose=1) # Show progress\n",
        "\n",
        "print(\"Model training finished.\")"
      ],
      "metadata": {
        "colab": {
          "base_uri": "https://localhost:8080/"
        },
        "id": "6TLl9CcuTWlZ",
        "outputId": "1d547224-0f76-43c9-a314-b2517ab7207e"
      },
      "execution_count": 12,
      "outputs": [
        {
          "output_type": "stream",
          "name": "stdout",
          "text": [
            "Starting model training (this may take a few minutes)...\n",
            "Epoch 1/10\n",
            "\u001b[1m469/469\u001b[0m \u001b[32m━━━━━━━━━━━━━━━━━━━━\u001b[0m\u001b[37m\u001b[0m \u001b[1m10s\u001b[0m 11ms/step - accuracy: 0.8014 - loss: 0.6256 - val_accuracy: 0.9803 - val_loss: 0.0605\n",
            "Epoch 2/10\n",
            "\u001b[1m469/469\u001b[0m \u001b[32m━━━━━━━━━━━━━━━━━━━━\u001b[0m\u001b[37m\u001b[0m \u001b[1m4s\u001b[0m 5ms/step - accuracy: 0.9665 - loss: 0.1122 - val_accuracy: 0.9864 - val_loss: 0.0415\n",
            "Epoch 3/10\n",
            "\u001b[1m469/469\u001b[0m \u001b[32m━━━━━━━━━━━━━━━━━━━━\u001b[0m\u001b[37m\u001b[0m \u001b[1m2s\u001b[0m 4ms/step - accuracy: 0.9765 - loss: 0.0780 - val_accuracy: 0.9872 - val_loss: 0.0385\n",
            "Epoch 4/10\n",
            "\u001b[1m469/469\u001b[0m \u001b[32m━━━━━━━━━━━━━━━━━━━━\u001b[0m\u001b[37m\u001b[0m \u001b[1m3s\u001b[0m 5ms/step - accuracy: 0.9801 - loss: 0.0655 - val_accuracy: 0.9893 - val_loss: 0.0317\n",
            "Epoch 5/10\n",
            "\u001b[1m469/469\u001b[0m \u001b[32m━━━━━━━━━━━━━━━━━━━━\u001b[0m\u001b[37m\u001b[0m \u001b[1m2s\u001b[0m 4ms/step - accuracy: 0.9846 - loss: 0.0516 - val_accuracy: 0.9890 - val_loss: 0.0321\n",
            "Epoch 6/10\n",
            "\u001b[1m469/469\u001b[0m \u001b[32m━━━━━━━━━━━━━━━━━━━━\u001b[0m\u001b[37m\u001b[0m \u001b[1m2s\u001b[0m 4ms/step - accuracy: 0.9864 - loss: 0.0462 - val_accuracy: 0.9911 - val_loss: 0.0272\n",
            "Epoch 7/10\n",
            "\u001b[1m469/469\u001b[0m \u001b[32m━━━━━━━━━━━━━━━━━━━━\u001b[0m\u001b[37m\u001b[0m \u001b[1m3s\u001b[0m 4ms/step - accuracy: 0.9883 - loss: 0.0386 - val_accuracy: 0.9911 - val_loss: 0.0280\n",
            "Epoch 8/10\n",
            "\u001b[1m469/469\u001b[0m \u001b[32m━━━━━━━━━━━━━━━━━━━━\u001b[0m\u001b[37m\u001b[0m \u001b[1m2s\u001b[0m 4ms/step - accuracy: 0.9871 - loss: 0.0420 - val_accuracy: 0.9912 - val_loss: 0.0275\n",
            "Epoch 9/10\n",
            "\u001b[1m469/469\u001b[0m \u001b[32m━━━━━━━━━━━━━━━━━━━━\u001b[0m\u001b[37m\u001b[0m \u001b[1m2s\u001b[0m 4ms/step - accuracy: 0.9896 - loss: 0.0346 - val_accuracy: 0.9923 - val_loss: 0.0240\n",
            "Epoch 10/10\n",
            "\u001b[1m469/469\u001b[0m \u001b[32m━━━━━━━━━━━━━━━━━━━━\u001b[0m\u001b[37m\u001b[0m \u001b[1m2s\u001b[0m 5ms/step - accuracy: 0.9903 - loss: 0.0302 - val_accuracy: 0.9915 - val_loss: 0.0269\n",
            "Model training finished.\n"
          ]
        }
      ]
    },
    {
      "cell_type": "code",
      "source": [
        "loss, accuracy = model.evaluate(X_test_mnist, y_test_mnist_cat, verbose=0)\n",
        "print(f\"\\nTest Accuracy: {accuracy*100:.2f}%\") # Target > 95%\n",
        "\n",
        "# Plot training & validation accuracy values\n",
        "plt.figure(figsize=(12, 4))\n",
        "plt.subplot(1, 2, 1)\n",
        "plt.plot(history.history['accuracy'], label='Train Accuracy')\n",
        "plt.plot(history.history['val_accuracy'], label='Validation Accuracy')\n",
        "plt.title('Model Accuracy')\n",
        "plt.xlabel('Epoch')\n",
        "plt.ylabel('Accuracy')\n",
        "plt.legend(loc='lower right')\n",
        "\n",
        "# Plot training & validation loss values\n",
        "plt.subplot(1, 2, 2)\n",
        "plt.plot(history.history['loss'], label='Train Loss')\n",
        "plt.plot(history.history['val_loss'], label='Validation Loss')\n",
        "plt.title('Model Loss')\n",
        "plt.xlabel('Epoch')\n",
        "plt.ylabel('Loss')\n",
        "plt.legend(loc='upper right')\n",
        "\n",
        "plt.tight_layout()\n",
        "plt.show()"
      ],
      "metadata": {
        "colab": {
          "base_uri": "https://localhost:8080/",
          "height": 442
        },
        "id": "HkS0FaxPTj-Z",
        "outputId": "2d64aa57-5269-40e2-f468-f4d0abf3efb3"
      },
      "execution_count": 13,
      "outputs": [
        {
          "output_type": "stream",
          "name": "stdout",
          "text": [
            "\n",
            "Test Accuracy: 99.15%\n"
          ]
        },
        {
          "output_type": "display_data",
          "data": {
            "text/plain": [
              "<Figure size 1200x400 with 2 Axes>"
            ],
            "image/png": "[encoded data removed]"
          },
          "metadata": {}
        }
      ]
    },
    {
      "cell_type": "code",
      "source": [
        "# Make predictions on the test set\n",
        "predictions = model.predict(X_test_mnist)\n",
        "predicted_labels = np.argmax(predictions, axis=1) # Get the digit with highest probability\n",
        "\n",
        "# Select 5 random samples to display\n",
        "num_samples_to_show = 5\n",
        "random_indices = np.random.choice(X_test_mnist.shape[0], num_samples_to_show, replace=False)\n",
        "\n",
        "plt.figure(figsize=(15, 5))\n",
        "for i, index in enumerate(random_indices):\n",
        "    plt.subplot(1, num_samples_to_show, i + 1)\n",
        "    # Reshape from (28,28,1) to (28,28) for imshow\n",
        "    plt.imshow(X_test_mnist[index].reshape(28, 28), cmap='gray')\n",
        "    plt.title(f\"Pred: {predicted_labels[index]}\\nTrue: {y_test_mnist[index]}\") # y_test_mnist has original integer labels\n",
        "    plt.axis('off')\n",
        "plt.tight_layout()\n",
        "plt.show()"
      ],
      "metadata": {
        "colab": {
          "base_uri": "https://localhost:8080/",
          "height": 320
        },
        "id": "F1fcwMaATr7R",
        "outputId": "a9bb3dc6-9125-44cc-9111-e312f53b72e3"
      },
      "execution_count": 14,
      "outputs": [
        {
          "output_type": "stream",
          "name": "stdout",
          "text": [
            "\u001b[1m313/313\u001b[0m \u001b[32m━━━━━━━━━━━━━━━━━━━━\u001b[0m\u001b[37m\u001b[0m \u001b[1m1s\u001b[0m 3ms/step\n"
          ]
        },
        {
          "output_type": "display_data",
          "data": {
            "text/plain": [
              "<Figure size 1500x500 with 5 Axes>"
            ],
            "image/png": "[encoded data removed]"
          },
          "metadata": {}
        }
      ]
    },
    {
      "cell_type": "code",
      "source": [
        "# Save the model to a file in your Colab environment's temporary storage\n",
        "model_filename = 'mnist_cnn_model.h5'\n",
        "model.save(model_filename)\n",
        "print(f\"Model saved as {model_filename}\")\n",
        "\n",
        "# You can find this file in the Colab file browser (folder icon on the left panel).\n",
        "# You can download it from there if you plan to run the Streamlit app locally."
      ],
      "metadata": {
        "colab": {
          "base_uri": "https://localhost:8080/"
        },
        "id": "xtbyOCnET1o4",
        "outputId": "817d1748-ea6a-41b0-db5f-7a83525f0b78"
      },
      "execution_count": 15,
      "outputs": [
        {
          "output_type": "stream",
          "name": "stderr",
          "text": [
            "WARNING:absl:You are saving your model as an HDF5 file via `model.save()` or `keras.saving.save_model(model)`. This file format is considered legacy. We recommend using instead the native Keras format, e.g. `model.save('my_model.keras')` or `keras.saving.save_model(model, 'my_model.keras')`. \n"
          ]
        },
        {
          "output_type": "stream",
          "name": "stdout",
          "text": [
            "Model saved as mnist_cnn_model.h5\n"
          ]
        }
      ]
    },
    {
      "cell_type": "code",
      "source": [
        "!pip install -U spacy spacytextblob\n",
        "!python -m spacy download en_core_web_sm\n",
        "\n",
        "print(\"spaCy, SpacyTextBlob, and 'en_core_web_sm' model installed/updated.\")"
      ],
      "metadata": {
        "colab": {
          "base_uri": "https://localhost:8080/"
        },
        "id": "1pP3LAuNUEOw",
        "outputId": "68de5c54-80aa-4557-c8c8-dbd600782d36"
      },
      "execution_count": 16,
      "outputs": [
        {
          "output_type": "stream",
          "name": "stdout",
          "text": [
            "Requirement already satisfied: spacy in /usr/local/lib/python3.11/dist-packages (3.8.6)\n",
            "Collecting spacy\n",
            "  Downloading spacy-3.8.7-cp311-cp311-manylinux_2_17_x86_64.manylinux2014_x86_64.whl.metadata (27 kB)\n",
            "Collecting spacytextblob\n",
            "  Downloading spacytextblob-5.0.0-py3-none-any.whl.metadata (4.8 kB)\n",
            "Requirement already satisfied: spacy-legacy<3.1.0,>=3.0.11 in /usr/local/lib/python3.11/dist-packages (from spacy) (3.0.12)\n",
            "Requirement already satisfied: spacy-loggers<2.0.0,>=1.0.0 in /usr/local/lib/python3.11/dist-packages (from spacy) (1.0.5)\n",
            "Requirement already satisfied: murmurhash<1.1.0,>=0.28.0 in /usr/local/lib/python3.11/dist-packages (from spacy) (1.0.12)\n",
            "Requirement already satisfied: cymem<2.1.0,>=2.0.2 in /usr/local/lib/python3.11/dist-packages (from spacy) (2.0.11)\n",
            "Requirement already satisfied: preshed<3.1.0,>=3.0.2 in /usr/local/lib/python3.11/dist-packages (from spacy) (3.0.9)\n",
            "Requirement already satisfied: thinc<8.4.0,>=8.3.4 in /usr/local/lib/python3.11/dist-packages (from spacy) (8.3.6)\n",
            "Requirement already satisfied: wasabi<1.2.0,>=0.9.1 in /usr/local/lib/python3.11/dist-packages (from spacy) (1.1.3)\n",
            "Requirement already satisfied: srsly<3.0.0,>=2.4.3 in /usr/local/lib/python3.11/dist-packages (from spacy) (2.5.1)\n",
            "Requirement already satisfied: catalogue<2.1.0,>=2.0.6 in /usr/local/lib/python3.11/dist-packages (from spacy) (2.0.10)\n",
            "Requirement already satisfied: weasel<0.5.0,>=0.1.0 in /usr/local/lib/python3.11/dist-packages (from spacy) (0.4.1)\n",
            "Requirement already satisfied: typer<1.0.0,>=0.3.0 in /usr/local/lib/python3.11/dist-packages (from spacy) (0.15.3)\n",
            "Requirement already satisfied: tqdm<5.0.0,>=4.38.0 in /usr/local/lib/python3.11/dist-packages (from spacy) (4.67.1)\n",
            "Requirement already satisfied: numpy>=1.19.0 in /usr/local/lib/python3.11/dist-packages (from spacy) (2.0.2)\n",
            "Requirement already satisfied: requests<3.0.0,>=2.13.0 in /usr/local/lib/python3.11/dist-packages (from spacy) (2.32.3)\n",
            "Requirement already satisfied: pydantic!=1.8,!=1.8.1,<3.0.0,>=1.7.4 in /usr/local/lib/python3.11/dist-packages (from spacy) (2.11.4)\n",
            "Requirement already satisfied: jinja2 in /usr/local/lib/python3.11/dist-packages (from spacy) (3.1.6)\n",
            "Requirement already satisfied: setuptools in /usr/local/lib/python3.11/dist-packages (from spacy) (75.2.0)\n",
            "Requirement already satisfied: packaging>=20.0 in /usr/local/lib/python3.11/dist-packages (from spacy) (24.2)\n",
            "Requirement already satisfied: langcodes<4.0.0,>=3.2.0 in /usr/local/lib/python3.11/dist-packages (from spacy) (3.5.0)\n",
            "Requirement already satisfied: textblob>=0.18.0.post0 in /usr/local/lib/python3.11/dist-packages (from spacytextblob) (0.19.0)\n",
            "Requirement already satisfied: language-data>=1.2 in /usr/local/lib/python3.11/dist-packages (from langcodes<4.0.0,>=3.2.0->spacy) (1.3.0)\n",
            "Requirement already satisfied: annotated-types>=0.6.0 in /usr/local/lib/python3.11/dist-packages (from pydantic!=1.8,!=1.8.1,<3.0.0,>=1.7.4->spacy) (0.7.0)\n",
            "Requirement already satisfied: pydantic-core==2.33.2 in /usr/local/lib/python3.11/dist-packages (from pydantic!=1.8,!=1.8.1,<3.0.0,>=1.7.4->spacy) (2.33.2)\n",
            "Requirement already satisfied: typing-extensions>=4.12.2 in /usr/local/lib/python3.11/dist-packages (from pydantic!=1.8,!=1.8.1,<3.0.0,>=1.7.4->spacy) (4.13.2)\n",
            "Requirement already satisfied: typing-inspection>=0.4.0 in /usr/local/lib/python3.11/dist-packages (from pydantic!=1.8,!=1.8.1,<3.0.0,>=1.7.4->spacy) (0.4.1)\n",
            "Requirement already satisfied: charset-normalizer<4,>=2 in /usr/local/lib/python3.11/dist-packages (from requests<3.0.0,>=2.13.0->spacy) (3.4.2)\n",
            "Requirement already satisfied: idna<4,>=2.5 in /usr/local/lib/python3.11/dist-packages (from requests<3.0.0,>=2.13.0->spacy) (3.10)\n",
            "Requirement already satisfied: urllib3<3,>=1.21.1 in /usr/local/lib/python3.11/dist-packages (from requests<3.0.0,>=2.13.0->spacy) (2.4.0)\n",
            "Requirement already satisfied: certifi>=2017.4.17 in /usr/local/lib/python3.11/dist-packages (from requests<3.0.0,>=2.13.0->spacy) (2025.4.26)\n",
            "Requirement already satisfied: nltk>=3.9 in /usr/local/lib/python3.11/dist-packages (from textblob>=0.18.0.post0->spacytextblob) (3.9.1)\n",
            "Requirement already satisfied: blis<1.4.0,>=1.3.0 in /usr/local/lib/python3.11/dist-packages (from thinc<8.4.0,>=8.3.4->spacy) (1.3.0)\n",
            "Requirement already satisfied: confection<1.0.0,>=0.0.1 in /usr/local/lib/python3.11/dist-packages (from thinc<8.4.0,>=8.3.4->spacy) (0.1.5)\n",
            "Requirement already satisfied: click>=8.0.0 in /usr/local/lib/python3.11/dist-packages (from typer<1.0.0,>=0.3.0->spacy) (8.2.1)\n",
            "Requirement already satisfied: shellingham>=1.3.0 in /usr/local/lib/python3.11/dist-packages (from typer<1.0.0,>=0.3.0->spacy) (1.5.4)\n",
            "Requirement already satisfied: rich>=10.11.0 in /usr/local/lib/python3.11/dist-packages (from typer<1.0.0,>=0.3.0->spacy) (13.9.4)\n",
            "Requirement already satisfied: cloudpathlib<1.0.0,>=0.7.0 in /usr/local/lib/python3.11/dist-packages (from weasel<0.5.0,>=0.1.0->spacy) (0.21.1)\n",
            "Requirement already satisfied: smart-open<8.0.0,>=5.2.1 in /usr/local/lib/python3.11/dist-packages (from weasel<0.5.0,>=0.1.0->spacy) (7.1.0)\n",
            "Requirement already satisfied: MarkupSafe>=2.0 in /usr/local/lib/python3.11/dist-packages (from jinja2->spacy) (3.0.2)\n",
            "Requirement already satisfied: marisa-trie>=1.1.0 in /usr/local/lib/python3.11/dist-packages (from language-data>=1.2->langcodes<4.0.0,>=3.2.0->spacy) (1.2.1)\n",
            "Requirement already satisfied: joblib in /usr/local/lib/python3.11/dist-packages (from nltk>=3.9->textblob>=0.18.0.post0->spacytextblob) (1.5.0)\n",
            "Requirement already satisfied: regex>=2021.8.3 in /usr/local/lib/python3.11/dist-packages (from nltk>=3.9->textblob>=0.18.0.post0->spacytextblob) (2024.11.6)\n",
            "Requirement already satisfied: markdown-it-py>=2.2.0 in /usr/local/lib/python3.11/dist-packages (from rich>=10.11.0->typer<1.0.0,>=0.3.0->spacy) (3.0.0)\n",
            "Requirement already satisfied: pygments<3.0.0,>=2.13.0 in /usr/local/lib/python3.11/dist-packages (from rich>=10.11.0->typer<1.0.0,>=0.3.0->spacy) (2.19.1)\n",
            "Requirement already satisfied: wrapt in /usr/local/lib/python3.11/dist-packages (from smart-open<8.0.0,>=5.2.1->weasel<0.5.0,>=0.1.0->spacy) (1.17.2)\n",
            "Requirement already satisfied: mdurl~=0.1 in /usr/local/lib/python3.11/dist-packages (from markdown-it-py>=2.2.0->rich>=10.11.0->typer<1.0.0,>=0.3.0->spacy) (0.1.2)\n",
            "Downloading spacy-3.8.7-cp311-cp311-manylinux_2_17_x86_64.manylinux2014_x86_64.whl (33.0 MB)\n",
            "\u001b[2K   \u001b[90m━━━━━━━━━━━━━━━━━━━━━━━━━━━━━━━━━━━━━━━━\u001b[0m \u001b[32m33.0/33.0 MB\u001b[0m \u001b[31m68.5 MB/s\u001b[0m eta \u001b[36m0:00:00\u001b[0m\n",
            "\u001b[?25hDownloading spacytextblob-5.0.0-py3-none-any.whl (4.2 kB)\n",
            "Installing collected packages: spacy, spacytextblob\n",
            "  Attempting uninstall: spacy\n",
            "    Found existing installation: spacy 3.8.6\n",
            "    Uninstalling spacy-3.8.6:\n",
            "      Successfully uninstalled spacy-3.8.6\n",
            "Successfully installed spacy-3.8.7 spacytextblob-5.0.0\n",
            "Collecting en-core-web-sm==3.8.0\n",
            "  Downloading https://github.com/explosion/spacy-models/releases/download/en_core_web_sm-3.8.0/en_core_web_sm-3.8.0-py3-none-any.whl (12.8 MB)\n",
            "\u001b[2K     \u001b[90m━━━━━━━━━━━━━━━━━━━━━━━━━━━━━━━━━━━━━━━━\u001b[0m \u001b[32m12.8/12.8 MB\u001b[0m \u001b[31m99.7 MB/s\u001b[0m eta \u001b[36m0:00:00\u001b[0m\n",
            "\u001b[?25h\u001b[38;5;2m✔ Download and installation successful\u001b[0m\n",
            "You can now load the package via spacy.load('en_core_web_sm')\n",
            "\u001b[38;5;3m⚠ Restart to reload dependencies\u001b[0m\n",
            "If you are in a Jupyter or Colab notebook, you may need to restart Python in\n",
            "order to load all the package's dependencies. You can do this by selecting the\n",
            "'Restart kernel' or 'Restart runtime' option.\n",
            "spaCy, SpacyTextBlob, and 'en_core_web_sm' model installed/updated.\n"
          ]
        }
      ]
    },
    {
      "cell_type": "code",
      "source": [
        "import spacy\n",
        "from spacytextblob.spacytextblob import SpacyTextBlob # For rule-based sentiment\n",
        "\n",
        "# Load the spaCy model\n",
        "# If you encounter an error here after installation, try Runtime -> Restart runtime\n",
        "try:\n",
        "    nlp = spacy.load('en_core_web_sm')\n",
        "    # Add the SpacyTextBlob component to the NLP pipeline\n",
        "    if 'spacytextblob' not in nlp.pipe_names:\n",
        "      nlp.add_pipe('spacytextblob')\n",
        "    print(\"spaCy 'en_core_web_sm' model loaded successfully with SpacyTextBlob.\")\n",
        "except OSError:\n",
        "    print(\"Error loading spaCy model. Ensure it's downloaded and try restarting the runtime (Runtime -> Restart runtime).\")\n",
        "    print(\"Then re-run the '!python -m spacy download en_core_web_sm' cell if needed.\")"
      ],
      "metadata": {
        "colab": {
          "base_uri": "https://localhost:8080/"
        },
        "id": "aeWzXaQiULto",
        "outputId": "88b9e440-3961-4c31-9198-e747cd19ac4c"
      },
      "execution_count": 17,
      "outputs": [
        {
          "output_type": "stream",
          "name": "stdout",
          "text": [
            "spaCy 'en_core_web_sm' model loaded successfully with SpacyTextBlob.\n"
          ]
        }
      ]
    },
    {
      "cell_type": "code",
      "source": [
        "amazon_reviews = [\n",
        "    \"The new Sony WH-1000XM5 headphones are amazing! Best noise cancellation I've ever experienced from Bose or Apple.\",\n",
        "    \"This generic BrandX phone charger broke after one week. Terrible product, do not buy.\",\n",
        "    \"I love my Samsung Galaxy S23. The camera is fantastic, and the battery life is great. Highly recommend!\",\n",
        "    \"The Anker PowerCore III is a reliable power bank, but the charging cable it came with feels a bit flimsy.\",\n",
        "    \"Not happy with the FitBit Charge 5. The screen is too small and it often fails to sync with my iPhone.\"\n",
        "]\n",
        "print(f\"{len(amazon_reviews)} sample reviews defined.\")"
      ],
      "metadata": {
        "colab": {
          "base_uri": "https://localhost:8080/"
        },
        "id": "5l0vLqsAUVZg",
        "outputId": "44b72602-7fcc-4bbd-8635-5d8a8dfea3da"
      },
      "execution_count": 18,
      "outputs": [
        {
          "output_type": "stream",
          "name": "stdout",
          "text": [
            "5 sample reviews defined.\n"
          ]
        }
      ]
    },
    {
      "cell_type": "code",
      "source": [
        "if 'nlp' not in globals():\n",
        "    print(\"NLP model not loaded. Please run the cell that loads 'spacy.load('en_core_web_sm')' first.\")\n",
        "else:\n",
        "    for i, review_text in enumerate(amazon_reviews):\n",
        "        print(f\"\\n--- Review {i+1} ---\")\n",
        "        print(f\"Text: {review_text}\")\n",
        "\n",
        "        # Process the text with spaCy\n",
        "        doc = nlp(review_text)\n",
        "\n",
        "        # 1. Named Entity Recognition (NER)\n",
        "        print(\"\\nNamed Entities (ORG or PRODUCT focus):\")\n",
        "        found_relevant_entities = False\n",
        "        for ent in doc.ents:\n",
        "            # We are particularly interested in ORG (brands) and PRODUCT\n",
        "            # The 'en_core_web_sm' model might not always perfectly identify these.\n",
        "            if ent.label_ in [\"ORG\", \"PRODUCT\"]:\n",
        "                print(f\"- Entity: '{ent.text}', Label: {ent.label_}\")\n",
        "                found_relevant_entities = True\n",
        "            # You can print other entities too if you want to see what spaCy finds\n",
        "            # else:\n",
        "            #    print(f\"- Other Entity: '{ent.text}', Label: {ent.label_}\")\n",
        "\n",
        "        if not found_relevant_entities:\n",
        "            print(\"No specific ORG/PRODUCT entities found by the 'sm' model. General entities might exist.\")\n",
        "            # Optional: print all entities if no ORG/PRODUCT found\n",
        "            # for ent in doc.ents:\n",
        "            #     print(f\"- General Entity: '{ent.text}', Label: {ent.label_}\")\n",
        "\n",
        "\n",
        "        # 2. Sentiment Analysis using SpacyTextBlob (Rule-based)\n",
        "        # Polarity: a float within the range [-1.0, 1.0]\n",
        "        # Subjectivity: a float within the range [0.0, 1.0] where 0.0 is very objective and 1.0 is very subjective.\n",
        "        polarity = doc._.blob.polarity\n",
        "        subjectivity = doc._.blob.subjectivity\n",
        "\n",
        "        sentiment_label = \"Positive\" if polarity > 0.1 else \"Negative\" if polarity < -0.1 else \"Neutral\"\n",
        "\n",
        "        print(f\"\\nSentiment (SpacyTextBlob):\")\n",
        "        print(f\"  Label: {sentiment_label}\")\n",
        "        print(f\"  Polarity Score: {polarity:.2f} (Negative <-> Positive)\")\n",
        "        print(f\"  Subjectivity Score: {subjectivity:.2f} (Objective <-> Subjective)\")\n",
        "        print(\"-\" * 20)"
      ],
      "metadata": {
        "colab": {
          "base_uri": "https://localhost:8080/"
        },
        "id": "Js9vgHTLUata",
        "outputId": "ddb7afc9-66c5-44f1-aac5-1f35404a765c"
      },
      "execution_count": 19,
      "outputs": [
        {
          "output_type": "stream",
          "name": "stdout",
          "text": [
            "\n",
            "--- Review 1 ---\n",
            "Text: The new Sony WH-1000XM5 headphones are amazing! Best noise cancellation I've ever experienced from Bose or Apple.\n",
            "\n",
            "Named Entities (ORG or PRODUCT focus):\n",
            "- Entity: 'Sony', Label: ORG\n",
            "- Entity: 'Apple', Label: ORG\n",
            "\n",
            "Sentiment (SpacyTextBlob):\n",
            "  Label: Positive\n",
            "  Polarity Score: 0.67 (Negative <-> Positive)\n",
            "  Subjectivity Score: 0.64 (Objective <-> Subjective)\n",
            "--------------------\n",
            "\n",
            "--- Review 2 ---\n",
            "Text: This generic BrandX phone charger broke after one week. Terrible product, do not buy.\n",
            "\n",
            "Named Entities (ORG or PRODUCT focus):\n",
            "No specific ORG/PRODUCT entities found by the 'sm' model. General entities might exist.\n",
            "\n",
            "Sentiment (SpacyTextBlob):\n",
            "  Label: Negative\n",
            "  Polarity Score: -0.50 (Negative <-> Positive)\n",
            "  Subjectivity Score: 0.50 (Objective <-> Subjective)\n",
            "--------------------\n",
            "\n",
            "--- Review 3 ---\n",
            "Text: I love my Samsung Galaxy S23. The camera is fantastic, and the battery life is great. Highly recommend!\n",
            "\n",
            "Named Entities (ORG or PRODUCT focus):\n",
            "- Entity: 'Samsung Galaxy S23', Label: ORG\n",
            "\n",
            "Sentiment (SpacyTextBlob):\n",
            "  Label: Positive\n",
            "  Polarity Score: 0.48 (Negative <-> Positive)\n",
            "  Subjectivity Score: 0.70 (Objective <-> Subjective)\n",
            "--------------------\n",
            "\n",
            "--- Review 4 ---\n",
            "Text: The Anker PowerCore III is a reliable power bank, but the charging cable it came with feels a bit flimsy.\n",
            "\n",
            "Named Entities (ORG or PRODUCT focus):\n",
            "No specific ORG/PRODUCT entities found by the 'sm' model. General entities might exist.\n",
            "\n",
            "Sentiment (SpacyTextBlob):\n",
            "  Label: Neutral\n",
            "  Polarity Score: 0.00 (Negative <-> Positive)\n",
            "  Subjectivity Score: 0.00 (Objective <-> Subjective)\n",
            "--------------------\n",
            "\n",
            "--- Review 5 ---\n",
            "Text: Not happy with the FitBit Charge 5. The screen is too small and it often fails to sync with my iPhone.\n",
            "\n",
            "Named Entities (ORG or PRODUCT focus):\n",
            "No specific ORG/PRODUCT entities found by the 'sm' model. General entities might exist.\n",
            "\n",
            "Sentiment (SpacyTextBlob):\n",
            "  Label: Negative\n",
            "  Polarity Score: -0.38 (Negative <-> Positive)\n",
            "  Subjectivity Score: 0.57 (Objective <-> Subjective)\n",
            "--------------------\n"
          ]
        }
      ]
    },
    {
      "cell_type": "code",
      "source": [
        "# BUGGY CODE FOR MNIST - DO NOT RUN AS IS FOR FINAL MODEL\n",
        "import tensorflow as tf\n",
        "from tensorflow.keras.datasets import mnist\n",
        "from tensorflow.keras.models import Sequential\n",
        "from tensorflow.keras.layers import Conv2D, MaxPooling2D, Dense # Missing Flatten\n",
        "# from tensorflow.keras.utils import to_categorical # Not used, labels not one-hot\n",
        "\n",
        "print(\"Buggy code cell loaded.\")\n",
        "\n",
        "# 1. Load Data (Assume already loaded and normalized as X_train_mnist, y_train_mnist etc. from Task 2)\n",
        "# For standalone running, uncomment and adapt:\n",
        "# (X_train, y_train), (X_test, y_test) = mnist.load_data()\n",
        "# X_train = X_train.astype('float32') / 255.0\n",
        "# X_test = X_test.astype('float32') / 255.0\n",
        "\n",
        "# BUG 1: Missing reshape for CNN input (expects 4D tensor)\n",
        "# X_train_buggy = X_train_mnist_original_shape # This variable doesn't exist, use X_train_mnist before reshape\n",
        "# X_test_buggy = X_test_mnist_original_shape\n",
        "\n",
        "# Use the already preprocessed data if available, or re-load and minimally process for this example\n",
        "if 'X_train_mnist' not in globals(): # if Task 2 cells weren't run\n",
        "    (X_train_buggy, y_train_buggy), (X_test_buggy, y_test_buggy) = mnist.load_data()\n",
        "    X_train_buggy = X_train_buggy.astype('float32') / 255.0\n",
        "    X_test_buggy = X_test_buggy.astype('float32') / 255.0\n",
        "    # BUG 1 will manifest if we don't reshape to 4D\n",
        "else: # if Task 2 cells were run, use the unreshaped versions for demo if possible, or reshaped for quick test\n",
        "    # To demonstrate BUG 1, ideally we'd use the (60000, 28, 28) shape.\n",
        "    # If using X_train_mnist (which is already 4D), BUG 1 won't show, but other bugs will.\n",
        "    # Let's assume we're starting 'fresh' for the buggy script for clarity of BUG 1.\n",
        "    (X_train_buggy_orig_shape, y_train_buggy_int), (_, _) = mnist.load_data()\n",
        "    X_train_buggy_reshaped = X_train_buggy_orig_shape.astype('float32') / 255.0\n",
        "    # X_train_buggy_reshaped = X_train_buggy_reshaped.reshape((-1, 28, 28, 1)) # This is the FIX for BUG 1\n",
        "\n",
        "# BUG 2: Labels not one-hot encoded for categorical_crossentropy if that's the intended loss\n",
        "# y_train_buggy_cat = to_categorical(y_train_buggy_int, num_classes=10) # This is the FIX for BUG 2\n",
        "\n",
        "\n",
        "# 2. Build Buggy CNN Model\n",
        "buggy_model = Sequential([\n",
        "    # If X_train_buggy_reshaped is NOT used, input_shape should be (28,28) and this will fail later,\n",
        "    # or if it is used as (28,28,1) for input_shape, then BUG 1 is implicitly fixed for the model definition\n",
        "    # but the data passed to fit() might be wrong.\n",
        "    # Let's assume input_shape is (28,28,1) for the Conv2D but data is not reshaped.\n",
        "    Conv2D(32, (3,3), activation='relu', input_shape=(28,28,1)),\n",
        "    MaxPooling2D((2,2)),\n",
        "    # BUG 3: Missing Flatten layer before Dense layer\n",
        "    Dense(100, activation='relu'),\n",
        "    # BUG 4: Output layer has 10 units, but activation is 'sigmoid' for multi-class. Should be 'softmax'.\n",
        "    Dense(10, activation='sigmoid')\n",
        "])\n",
        "\n",
        "# 3. Compile Buggy Model\n",
        "# BUG 5: Loss function 'binary_crossentropy' for multi-class (10 classes).\n",
        "buggy_model.compile(optimizer='adam',\n",
        "                    loss='binary_crossentropy',\n",
        "                    metrics=['accuracy'])\n",
        "\n",
        "buggy_model.summary()\n",
        "\n",
        "# 4. Attempt to Train Buggy Model (This will likely throw errors or perform very poorly)\n",
        "print(\"\\nAttempting to train the BUGGY model (expect errors or poor performance):\")\n",
        "# This will fail if X_train_buggy_reshaped is not used (due to BUG 1 - dimension mismatch)\n",
        "# and y_train_buggy_int is used with binary_crossentropy (BUG 2 & 5).\n",
        "try:\n",
        "    # To make it run and show other errors, let's use the reshaped data but keep other bugs\n",
        "    X_temp_train = X_train_buggy_orig_shape.astype('float32') / 255.0\n",
        "    X_temp_train = X_temp_train.reshape((-1, 28, 28, 1)) # Fix BUG 1 for training attempt\n",
        "\n",
        "    history_buggy = buggy_model.fit(\n",
        "        X_temp_train,\n",
        "        y_train_buggy_int, # Using integer labels (BUG 2 for categorical, BUG 5 for binary_crossentropy)\n",
        "        epochs=1,\n",
        "        batch_size=32,\n",
        "        validation_split=0.1 # Using a small split for quick test\n",
        "    )\n",
        "    print(\"Buggy model training 'completed' (likely with issues).\")\n",
        "except Exception as e:\n",
        "    print(f\"Error during buggy model training: {e}\")\n",
        "    print(\"This error is expected due to the bugs in the code.\")"
      ],
      "metadata": {
        "colab": {
          "base_uri": "https://localhost:8080/",
          "height": 414
        },
        "id": "iiF1gsUsUeoX",
        "outputId": "a6b1dbf0-2403-46a6-9ad0-1352baddc676"
      },
      "execution_count": 20,
      "outputs": [
        {
          "output_type": "stream",
          "name": "stdout",
          "text": [
            "Buggy code cell loaded.\n"
          ]
        },
        {
          "output_type": "stream",
          "name": "stderr",
          "text": [
            "/usr/local/lib/python3.11/dist-packages/keras/src/layers/convolutional/base_conv.py:107: UserWarning: Do not pass an `input_shape`/`input_dim` argument to a layer. When using Sequential models, prefer using an `Input(shape)` object as the first layer in the model instead.\n",
            "  super().__init__(activity_regularizer=activity_regularizer, **kwargs)\n"
          ]
        },
        {
          "output_type": "display_data",
          "data": {
            "text/plain": [
              "\u001b[1mModel: \"sequential_1\"\u001b[0m\n"
            ],
            "text/html": [
              "<pre style=\"white-space:pre;overflow-x:auto;line-height:normal;font-family:Menlo,'DejaVu Sans Mono',consolas,'Courier New',monospace\"><span style=\"font-weight: bold\">Model: \"sequential_1\"</span>\n",
              "</pre>\n"
            ]
          },
          "metadata": {}
        },
        {
          "output_type": "display_data",
          "data": {
            "text/plain": [
              "┏━━━━━━━━━━━━━━━━━━━━━━━━━━━━━━━━━┳━━━━━━━━━━━━━━━━━━━━━━━━┳━━━━━━━━━━━━━━━┓\n",
              "┃\u001b[1m \u001b[0m\u001b[1mLayer (type)                   \u001b[0m\u001b[1m \u001b[0m┃\u001b[1m \u001b[0m\u001b[1mOutput Shape          \u001b[0m\u001b[1m \u001b[0m┃\u001b[1m \u001b[0m\u001b[1m      Param #\u001b[0m\u001b[1m \u001b[0m┃\n",
              "┡━━━━━━━━━━━━━━━━━━━━━━━━━━━━━━━━━╇━━━━━━━━━━━━━━━━━━━━━━━━╇━━━━━━━━━━━━━━━┩\n",
              "│ conv2d_2 (\u001b[38;5;33mConv2D\u001b[0m)               │ (\u001b[38;5;45mNone\u001b[0m, \u001b[38;5;34m26\u001b[0m, \u001b[38;5;34m26\u001b[0m, \u001b[38;5;34m32\u001b[0m)     │           \u001b[38;5;34m320\u001b[0m │\n",
              "├─────────────────────────────────┼────────────────────────┼───────────────┤\n",
              "│ max_pooling2d_2 (\u001b[38;5;33mMaxPooling2D\u001b[0m)  │ (\u001b[38;5;45mNone\u001b[0m, \u001b[38;5;34m13\u001b[0m, \u001b[38;5;34m13\u001b[0m, \u001b[38;5;34m32\u001b[0m)     │             \u001b[38;5;34m0\u001b[0m │\n",
              "├─────────────────────────────────┼────────────────────────┼───────────────┤\n",
              "│ dense_2 (\u001b[38;5;33mDense\u001b[0m)                 │ (\u001b[38;5;45mNone\u001b[0m, \u001b[38;5;34m13\u001b[0m, \u001b[38;5;34m13\u001b[0m, \u001b[38;5;34m100\u001b[0m)    │         \u001b[38;5;34m3,300\u001b[0m │\n",
              "├─────────────────────────────────┼────────────────────────┼───────────────┤\n",
              "│ dense_3 (\u001b[38;5;33mDense\u001b[0m)                 │ (\u001b[38;5;45mNone\u001b[0m, \u001b[38;5;34m13\u001b[0m, \u001b[38;5;34m13\u001b[0m, \u001b[38;5;34m10\u001b[0m)     │         \u001b[38;5;34m1,010\u001b[0m │\n",
              "└─────────────────────────────────┴────────────────────────┴───────────────┘\n"
            ],
            "text/html": [
              "<pre style=\"white-space:pre;overflow-x:auto;line-height:normal;font-family:Menlo,'DejaVu Sans Mono',consolas,'Courier New',monospace\">┏━━━━━━━━━━━━━━━━━━━━━━━━━━━━━━━━━┳━━━━━━━━━━━━━━━━━━━━━━━━┳━━━━━━━━━━━━━━━┓\n",
              "┃<span style=\"font-weight: bold\"> Layer (type)                    </span>┃<span style=\"font-weight: bold\"> Output Shape           </span>┃<span style=\"font-weight: bold\">       Param # </span>┃\n",
              "┡━━━━━━━━━━━━━━━━━━━━━━━━━━━━━━━━━╇━━━━━━━━━━━━━━━━━━━━━━━━╇━━━━━━━━━━━━━━━┩\n",
              "│ conv2d_2 (<span style=\"color: #0087ff; text-decoration-color: #0087ff\">Conv2D</span>)               │ (<span style=\"color: #00d7ff; text-decoration-color: #00d7ff\">None</span>, <span style=\"color: #00af00; text-decoration-color: #00af00\">26</span>, <span style=\"color: #00af00; text-decoration-color: #00af00\">26</span>, <span style=\"color: #00af00; text-decoration-color: #00af00\">32</span>)     │           <span style=\"color: #00af00; text-decoration-color: #00af00\">320</span> │\n",
              "├─────────────────────────────────┼────────────────────────┼───────────────┤\n",
              "│ max_pooling2d_2 (<span style=\"color: #0087ff; text-decoration-color: #0087ff\">MaxPooling2D</span>)  │ (<span style=\"color: #00d7ff; text-decoration-color: #00d7ff\">None</span>, <span style=\"color: #00af00; text-decoration-color: #00af00\">13</span>, <span style=\"color: #00af00; text-decoration-color: #00af00\">13</span>, <span style=\"color: #00af00; text-decoration-color: #00af00\">32</span>)     │             <span style=\"color: #00af00; text-decoration-color: #00af00\">0</span> │\n",
              "├─────────────────────────────────┼────────────────────────┼───────────────┤\n",
              "│ dense_2 (<span style=\"color: #0087ff; text-decoration-color: #0087ff\">Dense</span>)                 │ (<span style=\"color: #00d7ff; text-decoration-color: #00d7ff\">None</span>, <span style=\"color: #00af00; text-decoration-color: #00af00\">13</span>, <span style=\"color: #00af00; text-decoration-color: #00af00\">13</span>, <span style=\"color: #00af00; text-decoration-color: #00af00\">100</span>)    │         <span style=\"color: #00af00; text-decoration-color: #00af00\">3,300</span> │\n",
              "├─────────────────────────────────┼────────────────────────┼───────────────┤\n",
              "│ dense_3 (<span style=\"color: #0087ff; text-decoration-color: #0087ff\">Dense</span>)                 │ (<span style=\"color: #00d7ff; text-decoration-color: #00d7ff\">None</span>, <span style=\"color: #00af00; text-decoration-color: #00af00\">13</span>, <span style=\"color: #00af00; text-decoration-color: #00af00\">13</span>, <span style=\"color: #00af00; text-decoration-color: #00af00\">10</span>)     │         <span style=\"color: #00af00; text-decoration-color: #00af00\">1,010</span> │\n",
              "└─────────────────────────────────┴────────────────────────┴───────────────┘\n",
              "</pre>\n"
            ]
          },
          "metadata": {}
        },
        {
          "output_type": "display_data",
          "data": {
            "text/plain": [
              "\u001b[1m Total params: \u001b[0m\u001b[38;5;34m4,630\u001b[0m (18.09 KB)\n"
            ],
            "text/html": [
              "<pre style=\"white-space:pre;overflow-x:auto;line-height:normal;font-family:Menlo,'DejaVu Sans Mono',consolas,'Courier New',monospace\"><span style=\"font-weight: bold\"> Total params: </span><span style=\"color: #00af00; text-decoration-color: #00af00\">4,630</span> (18.09 KB)\n",
              "</pre>\n"
            ]
          },
          "metadata": {}
        },
        {
          "output_type": "display_data",
          "data": {
            "text/plain": [
              "\u001b[1m Trainable params: \u001b[0m\u001b[38;5;34m4,630\u001b[0m (18.09 KB)\n"
            ],
            "text/html": [
              "<pre style=\"white-space:pre;overflow-x:auto;line-height:normal;font-family:Menlo,'DejaVu Sans Mono',consolas,'Courier New',monospace\"><span style=\"font-weight: bold\"> Trainable params: </span><span style=\"color: #00af00; text-decoration-color: #00af00\">4,630</span> (18.09 KB)\n",
              "</pre>\n"
            ]
          },
          "metadata": {}
        },
        {
          "output_type": "display_data",
          "data": {
            "text/plain": [
              "\u001b[1m Non-trainable params: \u001b[0m\u001b[38;5;34m0\u001b[0m (0.00 B)\n"
            ],
            "text/html": [
              "<pre style=\"white-space:pre;overflow-x:auto;line-height:normal;font-family:Menlo,'DejaVu Sans Mono',consolas,'Courier New',monospace\"><span style=\"font-weight: bold\"> Non-trainable params: </span><span style=\"color: #00af00; text-decoration-color: #00af00\">0</span> (0.00 B)\n",
              "</pre>\n"
            ]
          },
          "metadata": {}
        },
        {
          "output_type": "stream",
          "name": "stdout",
          "text": [
            "\n",
            "Attempting to train the BUGGY model (expect errors or poor performance):\n",
            "Error during buggy model training: Arguments `target` and `output` must have the same rank (ndim). Received: target.shape=(None,), output.shape=(None, 13, 13, 10)\n",
            "This error is expected due to the bugs in the code.\n"
          ]
        }
      ]
    }
  ]
}